{
 "cells": [
  {
   "cell_type": "markdown",
   "id": "0",
   "metadata": {},
   "source": [
    "# Projectile Motion Lab"
   ]
  },
  {
   "cell_type": "markdown",
   "id": "1",
   "metadata": {},
   "source": [
    "In elementary physics courses, one often sees the projectile motion problem without air resistance, for which the solution is fully analytic and straightforward:\n",
    "* The maximum range occurs at a $45^\\circ$ launch angle,\n",
    "* The horizontal range is given by the well-known formula $R = (v_0^2/g) \\sin(2\\theta)$.\n",
    "\n",
    "However, if we include **air resistance**, the situation becomes more complicated.\n",
    "\n",
    "This lab shows:\n",
    "1. No Air Resistance: Simple closed-form solution and a quick check via **gradient descent**.\n",
    "2. Linear Air Resistance: An analytic solution for $x(t)$ and $y(t)$ is still possible, although the time-of-flight can only be solved implicitly (involving a transcendental equation).\n",
    "   We can still implement a **gradient descent** on the angle $\\alpha$, using these closed-form expressions plus a (small) numerical step to find the time of flight."
   ]
  },
  {
   "cell_type": "markdown",
   "id": "2",
   "metadata": {},
   "source": [
    "## Gradient Descent for Maximum Range (No Air Resistance)\n",
    "\n",
    "We consider a projectile launched from the ground at an initial speed $v_0$ and an angle $\\theta$ with respect to the horizontal.\n",
    "The only force acting on the projectile is gravity, which causes a uniform downward acceleration $g$.\n",
    "The motion can be decomposed into horizontal and vertical components.\n",
    "\\begin{align}\n",
    "\\frac{dx}{dt}   = v_x, &\\quad \\frac{dy}{dt}   = v_y; \\\\\n",
    "\\frac{dv_x}{dt} = 0,   &\\quad \\frac{dv_y}{dt} = -g.\n",
    "\\end{align}"
   ]
  },
  {
   "cell_type": "markdown",
   "id": "3",
   "metadata": {},
   "source": [
    "The solution can be obtained by the kinematic equations:\n",
    "\\begin{align}\n",
    "x &= v_0\\cos(\\theta)\\;t, \\\\\n",
    "y &= v_0\\sin(\\theta)\\;t - \\frac{1}{2}gt^2.\n",
    "\\end{align}\n",
    "where we chose $x(t=0) = 0$ and $y(t=0) = 0$."
   ]
  },
  {
   "cell_type": "markdown",
   "id": "4",
   "metadata": {},
   "source": [
    "The **time of flight** is simply the non-trivial root of $y(t)$, which has the analytical form\n",
    "\\begin{align}\n",
    "  T = \\frac{2 v_0 \\sin(\\theta)}{g}.\n",
    "\\end{align}"
   ]
  },
  {
   "cell_type": "markdown",
   "id": "5",
   "metadata": {},
   "source": [
    "Substituting this into $x(t)$, the horizontal range is\n",
    "\\begin{align}\n",
    "R = x(T) = 2\\frac{v_0^2}{g}\\sin(\\theta)\\cos(\\theta).\n",
    "\\end{align}\n",
    "Using the double angle identities $\\sin(2\\theta) \\equiv 2\\sin(\\theta)\\cos(\\theta)$, we obtain the **horizontal range equation**\n",
    "\\begin{align}\n",
    "R(\\theta) = \\frac{v_0^2}{g}\\sin(2\\theta)\n",
    "\\end{align}"
   ]
  },
  {
   "cell_type": "markdown",
   "id": "6",
   "metadata": {},
   "source": [
    "Holding $v_0$ and $g$ fix, clearly, $R(\\theta)$ reaches the longest range at $\\sin$'s peak, i.e., $2\\theta = \\pi/2$.\n",
    "This is nothing but the well known result that the maximum range occurs at a $\\theta = \\pi/4 = 45^\\circ$ launch angle.\n",
    "\n",
    "In this part of the lab, we will use gradient descent to confirm this numerically."
   ]
  },
  {
   "cell_type": "markdown",
   "id": "7",
   "metadata": {},
   "source": [
    "### Task 1: Implement the Range Function\n",
    "\n",
    "The horizontal range of a projectile launched at an angle $\\theta$ is:\n",
    "\\begin{align}\n",
    "R(\\theta) = \\frac{v_0^2}{g} \\sin(2\\theta).\n",
    "\\end{align}\n",
    "Define a Python function `R_proj(theta, v0, g)` that computes $R(\\theta)$."
   ]
  },
  {
   "cell_type": "code",
   "execution_count": 1,
   "id": "8",
   "metadata": {},
   "outputs": [],
   "source": [
    "# HANDSON: Implement the range equation\n",
    "\n",
    "from jax import numpy as np\n",
    "\n",
    "def R_proj(theta, v0, g):\n",
    "    return v0**2 / g * np.sin(2*theta)"
   ]
  },
  {
   "cell_type": "code",
   "execution_count": 14,
   "id": "9",
   "metadata": {},
   "outputs": [],
   "source": [
    "# HANDSON: implement autodg_hist() with early stop that checks `abs(X[-1] - X[-2]) < tol`\n",
    "\n",
    "from jax import grad\n",
    "from jax import numpy as jnp\n",
    "from jax import jit\n",
    "\n",
    "def autogd_hist(f, x, alpha, imax=1000, tol=1e-6):\n",
    "    df = jit(grad(f))  # Use JAX to compute gradient\n",
    "    Xs = [np.array(x)]\n",
    "    for _ in range(imax):\n",
    "        Xs.append(Xs[-1] - alpha * df(Xs[-1]))  # Gradient descent update\n",
    "        if abs(Xs[-1] - Xs[-2]) < tol:\n",
    "            return jnp.array(Xs)  \n",
    "    return jnp.array(Xs)"
   ]
  },
  {
   "cell_type": "code",
   "execution_count": 15,
   "id": "10",
   "metadata": {},
   "outputs": [],
   "source": [
    "import matplotlib.pyplot as plt\n",
    "\n",
    "# Parameters\n",
    "v0 = 10    # Initial velocity (m/s)\n",
    "g  = 9.81  # Gravity (m/s^2)\n",
    "\n",
    "# Gradient Descent Optimization\n",
    "theta = np.radians(30)  # Initial guess (in radians)\n",
    "alpha = 0.01            # Learning rate\n",
    "\n",
    "# HANSON: Define a loss function L(theta) based on R_proj but depends only on theta\n",
    "L = lambda alpha: - R_proj(alpha, v0, g) \n",
    "\n",
    "def L(alpha):\n",
    "    return -R_proj(alpha, v0, g) \n",
    "\n",
    "# HANSON: Use autograd_hist() to obtain the history of Theta\n",
    "Theta = autogd_hist(L, theta, alpha)"
   ]
  },
  {
   "cell_type": "code",
   "execution_count": 10,
   "id": "11",
   "metadata": {},
   "outputs": [
    {
     "name": "stdout",
     "output_type": "stream",
     "text": [
      "Optimized launch angle (degrees): 45.0\n"
     ]
    }
   ],
   "source": [
    "# Convert results to degrees\n",
    "Theta_deg = np.degrees(np.array(Theta))\n",
    "\n",
    "# Print result\n",
    "print(f\"Optimized launch angle (degrees): {Theta_deg[-1]}\")"
   ]
  },
  {
   "cell_type": "code",
   "execution_count": 16,
   "id": "12",
   "metadata": {},
   "outputs": [
    {
     "data": {
      "text/plain": [
       "Text(0, 0.5, 'Launch Angle (degrees)')"
      ]
     },
     "execution_count": 16,
     "metadata": {},
     "output_type": "execute_result"
    },
    {
     "data": {
      "image/png": "[encoded data removed]",
      "text/plain": [
       "<Figure size 640x480 with 1 Axes>"
      ]
     },
     "metadata": {},
     "output_type": "display_data"
    }
   ],
   "source": [
    "# Plot results\n",
    "\n",
    "plt.plot(Theta_deg, '-o')\n",
    "plt.title('Optimization of Launch Angle (No Air Resistance)')\n",
    "plt.xlabel('Iteration')\n",
    "plt.ylabel('Launch Angle (degrees)')"
   ]
  },
  {
   "cell_type": "markdown",
   "id": "13",
   "metadata": {},
   "source": [
    "## Gradient Descent for Maximum Range with Air Resistance"
   ]
  },
  {
   "cell_type": "markdown",
   "id": "14",
   "metadata": {},
   "source": [
    "When air resistance is included, the force acting on the projectile consists of two components:\n",
    "* **Gravity**: $- mg\\hat{j}$\n",
    "* **Air Resistance**: $-k\\mathbf{v}$, where $k$ is the drag coefficient and $\\mathbf{v} = (v_x, v_y)$ is the velocity.\n",
    "\n",
    "Defining $\\gamma = k/m$ as the damping coefficient, Newton's second law gives the system of differential equations:\n",
    "\\begin{align}\n",
    "\\frac{d v_x}{dt} &=    - \\gamma v_x, \\\\\n",
    "\\frac{d v_y}{dt} &= -g - \\gamma v_y.\n",
    "\\end{align}"
   ]
  },
  {
   "cell_type": "markdown",
   "id": "15",
   "metadata": {},
   "source": [
    "The first equation is a simple separable differential equation.\n",
    "Integrating both sides and using the initial condition $v_x(0) = v_0 \\cos(\\theta)$,\n",
    "\\begin{align}\n",
    "v_x(t) = v_0 \\cos(\\theta)\\,e^{-\\gamma t}.\n",
    "\\end{align}"
   ]
  },
  {
   "cell_type": "markdown",
   "id": "16",
   "metadata": {},
   "source": [
    "Using the integrating factor method, the general solution to the second equation is\n",
    "\\begin{align}\n",
    "v_y = e^{-\\gamma t} \\left( C - \\int g e^{\\gamma t} dt \\right).\n",
    "\\end{align}\n",
    "\n",
    "Solving the integral and using the initial condition $v_y(0) = v_0 \\sin(\\theta)$, we have\n",
    "\\begin{align}\n",
    "v_y(t)\n",
    "= \\left( v_0 \\sin\\theta + \\frac{g}{\\gamma} \\right) e^{-\\gamma t} - \\frac{g}{\\gamma}\n",
    "\\end{align}\n",
    "Note that $v_\\text{t} \\equiv g/\\gamma$ is the terminating velocity.\n",
    "Hence the vertical equation can be rewritten as:\n",
    "\\begin{align}\n",
    "v_y(t)\n",
    "= v_0 \\sin(\\theta)\\;e^{-\\gamma t} - v_\\text{t}(1 - e^{-\\gamma t}).\n",
    "\\end{align}"
   ]
  },
  {
   "cell_type": "markdown",
   "id": "17",
   "metadata": {},
   "source": [
    "Integrating $v_x(t)$ and $v_y(t)$ in time, we obtain the complicated but still analytical equations\n",
    "\\begin{align}\n",
    "x(t) &= \\frac{v_0 \\cos\\theta}{\\gamma} \\left( 1 - e^{-\\gamma t} \\right)\\\\\n",
    "y(t) &= \\frac{v_0 \\sin\\theta + v_\\text{t}}{\\gamma} \\left(1 - e^{-\\gamma t} \\right) - v_\\text{t} t.\n",
    "\\end{align}"
   ]
  },
  {
   "cell_type": "markdown",
   "id": "18",
   "metadata": {},
   "source": [
    "The **flight of time** in this case, i.e., the non-trivial root of $y(t)$ does not have an analytical solution.\n",
    "While it is possible to use a root finder to solve it numerically, for this hands-on lab, we will make a simplification.\n",
    "\n",
    "Event without air resistance, i.e., when $\\gamma = 0$, the **flight of time at 0 air resistance** $T_0$ is finite.\n",
    "Hence, we can consider the situation that $\\gamma \\ll 1 / T_0$.\n",
    "This allows us to Taylor expansion the horizontal equation\n",
    "\\begin{align}\n",
    "y(t) \n",
    "&\\approx \\frac{v_0 \\sin\\theta + v_\\text{t}}{\\gamma} \\left(\\gamma t - \\frac{\\gamma^2 t^2}{2}\\right) - v_\\text{t} t \\\\\n",
    "&= v_0 \\sin(\\theta)\\;t - \\frac{\\gamma v_0\\sin\\theta + g}{2}\\;t^2.\n",
    "\\end{align}"
   ]
  },
  {
   "cell_type": "markdown",
   "id": "19",
   "metadata": {},
   "source": [
    "Hence, the corrected **flight of time at small air resistance** is\n",
    "\\begin{align}\n",
    "T_\\gamma \\approx \\frac{2v_0\\sin\\theta}{\\gamma v_0\\sin\\theta + g}.\n",
    "\\end{align}"
   ]
  },
  {
   "cell_type": "markdown",
   "id": "20",
   "metadata": {},
   "source": [
    "Keeping the horizontal equation at the same order and substitute the flight of time, we have\n",
    "\\begin{align}\n",
    "R = x(T_\\gamma) \\approx v_0\\cos(\\theta) T_\\gamma \\approx \\frac{v_0^2\\sin 2\\theta}{\\gamma v_0\\sin\\theta + g}.\n",
    "\\end{align}"
   ]
  },
  {
   "cell_type": "markdown",
   "id": "21",
   "metadata": {},
   "source": [
    "Holding $v_0$, $g$, and $\\gamma$ fix, we can find the longest range by maximizing:\n",
    "\\begin{align}\n",
    "R(\\theta) \\approx \\frac{v_0^2\\sin 2\\theta}{\\gamma v_0\\sin\\theta + g}.\n",
    "\\end{align}"
   ]
  },
  {
   "cell_type": "code",
   "execution_count": 18,
   "id": "22",
   "metadata": {},
   "outputs": [],
   "source": [
    "# HANDSON: Implement flight of time\n",
    "\n",
    "def T_flight(theta, v0, g, gamma=0):\n",
    "    return 2 * v0 * np.sin(theta) / ( gamma * v0 * np.sin(2* theta) + g)"
   ]
  },
  {
   "cell_type": "code",
   "execution_count": 20,
   "id": "23",
   "metadata": {},
   "outputs": [],
   "source": [
    "# HANDSON: Implement the range equation\n",
    "\n",
    "def R_proj(theta, v0, g, gamma=0):\n",
    "    return v0**2 * np.sin(2*theta) / (gamma * v0 * np.sin(theta) + g)"
   ]
  },
  {
   "cell_type": "code",
   "execution_count": null,
   "id": "24",
   "metadata": {},
   "outputs": [],
   "source": [
    "# Parameters\n",
    "v0    = 10    # Initial velocity (m/s)\n",
    "g     = 9.81  # Gravity (m/s^2)\n",
    "gamma = 0.05  # Damping coefficient (1/s)\n",
    "\n",
    "# Gradient Descent Optimization\n",
    "theta = np.radians(30)  # Initial guess (in radians)\n",
    "alpha = 0.01            # Learning rate\n",
    "\n",
    "# HANSON: Define a loss function L(theta) based on R_proj but depends only on theta\n",
    "pass\n",
    "\n",
    "# HANSON: Use autograd_hist() to obtain the history of Theta\n",
    "Theta = pass"
   ]
  },
  {
   "cell_type": "code",
   "execution_count": null,
   "id": "25",
   "metadata": {},
   "outputs": [],
   "source": [
    "# HANDSON: use T_flight() to check if we expect a good approximation\n",
    "\n",
    "pass"
   ]
  },
  {
   "cell_type": "code",
   "execution_count": null,
   "id": "26",
   "metadata": {},
   "outputs": [],
   "source": [
    "# Convert results to degrees\n",
    "Theta_deg = np.degrees(np.array(Theta))\n",
    "\n",
    "# Print result\n",
    "print(f\"Optimized launch angle (degrees): {Theta_deg[-1]}\")"
   ]
  },
  {
   "cell_type": "code",
   "execution_count": null,
   "id": "27",
   "metadata": {},
   "outputs": [],
   "source": [
    "# Plot results\n",
    "\n",
    "plt.plot(Theta_deg, '-o')\n",
    "plt.title(f'Optimization of Launch Angle with Air Resistance {gamma}')\n",
    "plt.xlabel('Iteration')\n",
    "plt.ylabel('Launch Angle (degrees)')"
   ]
  }
 ],
 "metadata": {
  "kernelspec": {
   "display_name": "Python 3 (ipykernel)",
   "language": "python",
   "name": "python3"
  },
  "language_info": {
   "codemirror_mode": {
    "name": "ipython",
    "version": 3
   },
   "file_extension": ".py",
   "mimetype": "text/x-python",
   "name": "python",
   "nbconvert_exporter": "python",
   "pygments_lexer": "ipython3",
   "version": "3.12.1"
  }
 },
 "nbformat": 4,
 "nbformat_minor": 5
}
