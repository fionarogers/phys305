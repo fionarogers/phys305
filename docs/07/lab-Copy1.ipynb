{
 "cells": [
  {
   "cell_type": "markdown",
   "id": "0",
   "metadata": {},
   "source": [
    "# Derivatives Lab"
   ]
  },
  {
   "cell_type": "markdown",
   "id": "1",
   "metadata": {
    "jp-MarkdownHeadingCollapsed": true
   },
   "source": [
    "This lab allows students to experiment with different differentiation methods, including symbolic, finite difference, complex step differentiation, and automatic differentiation."
   ]
  },
  {
   "cell_type": "markdown",
   "id": "2",
   "metadata": {},
   "source": [
    "## Symbolic Differentiation with SymPy\n",
    "\n",
    "We first try out symbolic differentiation using `scipy`.\n",
    "This is very similar to the class notes, except we will take derivatives of the $\\text{sinc}(x) = \\sin(x) / x$."
   ]
  },
  {
   "cell_type": "code",
   "execution_count": 1,
   "id": "3",
   "metadata": {},
   "outputs": [
    {
     "name": "stdout",
     "output_type": "stream",
     "text": [
      "Requirement already satisfied: sympy in /home/codespace/.local/lib/python3.12/site-packages (1.13.1)\n",
      "Requirement already satisfied: mpmath<1.4,>=1.1.0 in /home/codespace/.local/lib/python3.12/site-packages (from sympy) (1.3.0)\n",
      "\n",
      "\u001b[1m[\u001b[0m\u001b[34;49mnotice\u001b[0m\u001b[1;39;49m]\u001b[0m\u001b[39;49m A new release of pip is available: \u001b[0m\u001b[31;49m24.3.1\u001b[0m\u001b[39;49m -> \u001b[0m\u001b[32;49m25.0\u001b[0m\n",
      "\u001b[1m[\u001b[0m\u001b[34;49mnotice\u001b[0m\u001b[1;39;49m]\u001b[0m\u001b[39;49m To update, run: \u001b[0m\u001b[32;49mpython3 -m pip install --upgrade pip\u001b[0m\n"
     ]
    }
   ],
   "source": [
    "# HANDSON: make sure that sympy is installed\n",
    "\n",
    "!pip install sympy\n",
    "\n",
    "import sympy as sp"
   ]
  },
  {
   "cell_type": "code",
   "execution_count": 4,
   "id": "4",
   "metadata": {},
   "outputs": [],
   "source": [
    "# HANDSON: use sympy to define the equation f(x) = sin(x) / x ...\n",
    "\n",
    "x = sp.symbols('x')\n",
    "f = sp.sin(x) / x"
   ]
  },
  {
   "cell_type": "code",
   "execution_count": 5,
   "id": "5",
   "metadata": {},
   "outputs": [],
   "source": [
    "# HANDSON: ... and get its derivative\n",
    "\n",
    "f_prime = sp.diff(f, x)\n",
    "f_prime_simplified = sp.simplify(f_prime)"
   ]
  },
  {
   "cell_type": "code",
   "execution_count": 6,
   "id": "6",
   "metadata": {},
   "outputs": [
    {
     "data": {
      "text/latex": [
       "$\\displaystyle \\frac{\\cos{\\left(x \\right)}}{x} - \\frac{\\sin{\\left(x \\right)}}{x^{2}}$"
      ],
      "text/plain": [
       "cos(x)/x - sin(x)/x**2"
      ]
     },
     "execution_count": 6,
     "metadata": {},
     "output_type": "execute_result"
    }
   ],
   "source": [
    "# Display f'(x)\n",
    "\n",
    "f_prime"
   ]
  },
  {
   "cell_type": "code",
   "execution_count": 7,
   "id": "7",
   "metadata": {},
   "outputs": [
    {
     "data": {
      "text/latex": [
       "$\\displaystyle \\frac{x \\cos{\\left(x \\right)} - \\sin{\\left(x \\right)}}{x^{2}}$"
      ],
      "text/plain": [
       "(x*cos(x) - sin(x))/x**2"
      ]
     },
     "execution_count": 7,
     "metadata": {},
     "output_type": "execute_result"
    }
   ],
   "source": [
    "# Display simplified f'(x)\n",
    "\n",
    "f_prime_simplified"
   ]
  },
  {
   "cell_type": "code",
   "execution_count": 10,
   "id": "8",
   "metadata": {},
   "outputs": [
    {
     "data": {
      "text/latex": [
       "$\\displaystyle 0.841470984807897$"
      ],
      "text/plain": [
       "0.841470984807897"
      ]
     },
     "metadata": {},
     "output_type": "display_data"
    },
    {
     "data": {
      "text/latex": [
       "$\\displaystyle -0.301168678939757$"
      ],
      "text/plain": [
       "-0.301168678939757"
      ]
     },
     "metadata": {},
     "output_type": "display_data"
    }
   ],
   "source": [
    "# We didn't do this in the notes,\n",
    "# but it is possible to obtain numerical values of functions from sympy.\n",
    "\n",
    "display(f.evalf(subs={x:1}))\n",
    "display(f_prime_simplified.evalf(subs={x:1}))"
   ]
  },
  {
   "cell_type": "code",
   "execution_count": 11,
   "id": "9",
   "metadata": {},
   "outputs": [],
   "source": [
    "# HANDSON: modify function `f(x)` and confirm that `sympy` is able to\n",
    "# compute its derivatives\n",
    "f = sp.exp(sp.cos(x**2))\n",
    "\n",
    "f_prime = sp.diff(f, x)\n",
    "f_prime_simplified = sp.simplify(f_prime)"
   ]
  },
  {
   "cell_type": "code",
   "execution_count": 12,
   "id": "b16f4c4e-6adf-4057-bbc2-8970dbf1702a",
   "metadata": {},
   "outputs": [
    {
     "data": {
      "text/latex": [
       "$\\displaystyle - 2 x e^{\\cos{\\left(x^{2} \\right)}} \\sin{\\left(x^{2} \\right)}$"
      ],
      "text/plain": [
       "-2*x*exp(cos(x**2))*sin(x**2)"
      ]
     },
     "execution_count": 12,
     "metadata": {},
     "output_type": "execute_result"
    }
   ],
   "source": [
    "f_prime"
   ]
  },
  {
   "cell_type": "markdown",
   "id": "10",
   "metadata": {},
   "source": [
    "To help visualize the results of derivative, let's copy the plotting function from the class notes here:"
   ]
  },
  {
   "cell_type": "code",
   "execution_count": 13,
   "id": "11",
   "metadata": {},
   "outputs": [],
   "source": [
    "import numpy as np\n",
    "from matplotlib import pyplot as plt\n",
    "from typing import Callable\n",
    "\n",
    "def mkplot(g, X, Fp):\n",
    "    if isinstance(g, Callable):\n",
    "        f = g\n",
    "    else:\n",
    "        f = lambda x: g.evalf(subs={'x': x})\n",
    "        \n",
    "    Xd = np.linspace(min(X), max(X), num=1001)\n",
    "    Fd = [f(x) for x in Xd]\n",
    "    \n",
    "    plt.plot(Xd, Fd, lw=5, alpha=0.25)\n",
    "    for (x, fp) in zip(X, Fp):\n",
    "        y = f(x)\n",
    "        plt.plot(\n",
    "            [x-0.05,    x+0.05],\n",
    "            [y-0.05*fp, y+0.05*fp],\n",
    "        )"
   ]
  },
  {
   "cell_type": "code",
   "execution_count": 14,
   "id": "12",
   "metadata": {},
   "outputs": [
    {
     "data": {
      "image/png": "[encoded data removed]",
      "text/plain": [
       "<Figure size 640x480 with 1 Axes>"
      ]
     },
     "metadata": {},
     "output_type": "display_data"
    }
   ],
   "source": [
    "X       = range(10)\n",
    "F_prime = [f_prime.evalf(subs={'x':x}) for x in X]\n",
    "\n",
    "mkplot(f, X, F_prime)"
   ]
  },
  {
   "cell_type": "code",
   "execution_count": null,
   "id": "13",
   "metadata": {},
   "outputs": [],
   "source": [
    "def fp_complexstep(f, x, h):\n",
    "    return np.imag(f(x + 1j * h)) / h"
   ]
  },
  {
   "cell_type": "markdown",
   "id": "14",
   "metadata": {},
   "source": [
    "## Enhancing Dual Number Autodiff\n",
    "\n",
    "In the class, we implemented a Dual-number based autodiff scheme.\n",
    "It supports many basic operators except division and power.\n",
    "\n",
    "Try implementing these extra operators and test them out with our visualization tool."
   ]
  },
  {
   "cell_type": "code",
   "execution_count": null,
   "id": "15",
   "metadata": {},
   "outputs": [],
   "source": [
    "def V(x):\n",
    "    \"\"\"Select the value from a dual number.\n",
    "\n",
    "    Work for both python built-in numbers (often used in function) and dual numbers.\n",
    "    \"\"\"\n",
    "    if isinstance(x, Dual):\n",
    "        return x[0]\n",
    "    else:\n",
    "        return x\n",
    "\n",
    "def D(x):\n",
    "    \"\"\"Select the derivative from a dual number.\n",
    "\n",
    "    Work for both python built-in numbers (often used in function) and dual numbers.\n",
    "    \"\"\"\n",
    "    if isinstance(x, Dual):\n",
    "        return x[1]\n",
    "    else:\n",
    "        return 0"
   ]
  },
  {
   "cell_type": "code",
   "execution_count": null,
   "id": "16",
   "metadata": {},
   "outputs": [],
   "source": [
    "class Dual(tuple):\n",
    "    \"\"\"Dual number for implementing autodiff in pure python\"\"\"\n",
    "\n",
    "    def __new__(self, v, d=1): # tuple is immutable so we cannot use __init__()\n",
    "        return tuple.__new__(Dual, (v, d))\n",
    "\n",
    "    def __add__(self, r):\n",
    "        return Dual(\n",
    "            V(self) + V(r),\n",
    "            D(self) + D(r),\n",
    "        )\n",
    "    def __radd__(self, l):\n",
    "        return self + l # addition commutes\n",
    "\n",
    "    def __sub__(self, r):\n",
    "        return Dual(\n",
    "            V(self) - V(r),\n",
    "            D(self) - D(r),\n",
    "        )\n",
    "    def __rsub__(self, l):\n",
    "        return Dual(\n",
    "            V(l) - V(self),\n",
    "            D(l) - D(self),\n",
    "        )\n",
    "\n",
    "    def __mul__(self, r):\n",
    "        return Dual(\n",
    "            V(self) * V(r),\n",
    "            D(self) * V(r) + V(self) * D(r),\n",
    "        )\n",
    "    def __rmul__(self, l):\n",
    "        return self * l # multiplication commutes\n",
    "\n",
    "    def __truediv__(self, r):\n",
    "        return Dual(\n",
    "            V(self) / V(r),\n",
    "            ..., # HANDSON: implement chain-rule for division\n",
    "        )\n",
    "    def __rtruediv__(self, l):\n",
    "        return Dual(\n",
    "            V(l) / V(self),\n",
    "            ..., # HANDSON: implement chain-rule for division\n",
    "        )\n",
    "\n",
    "    def __pow__(self, r): # assume r is constant\n",
    "        if r == 0:\n",
    "            return ... # HANDSON: implement chain-rule for power\n",
    "        elif r == 1:\n",
    "            return ... # HANDSON: implement chain-rule for power\n",
    "        else:\n",
    "            return Dual(\n",
    "                V(self)**r,\n",
    "                ..., # HANDSON: implement chain-rule for power\n",
    "            )"
   ]
  },
  {
   "cell_type": "code",
   "execution_count": null,
   "id": "17",
   "metadata": {},
   "outputs": [],
   "source": [
    "def sin(x):\n",
    "    return Dual(\n",
    "        np.sin(V(x)),\n",
    "        np.cos(V(x)) * D(x)  # chain rule: d/dx sin(x) = cos(x) * x'\n",
    "    )"
   ]
  },
  {
   "cell_type": "code",
   "execution_count": null,
   "id": "18",
   "metadata": {},
   "outputs": [],
   "source": [
    "def f(x):\n",
    "    return x**3\n",
    "    # return sin(x) / x\n",
    "\n",
    "X     = np.linspace(1,2,num=11)\n",
    "F, Fp = f(Dual(X))\n",
    "\n",
    "mkplot(f, X, Fp)"
   ]
  }
 ],
 "metadata": {
  "kernelspec": {
   "display_name": "Python 3 (ipykernel)",
   "language": "python",
   "name": "python3"
  },
  "language_info": {
   "codemirror_mode": {
    "name": "ipython",
    "version": 3
   },
   "file_extension": ".py",
   "mimetype": "text/x-python",
   "name": "python",
   "nbconvert_exporter": "python",
   "pygments_lexer": "ipython3",
   "version": "3.12.1"
  }
 },
 "nbformat": 4,
 "nbformat_minor": 5
}
