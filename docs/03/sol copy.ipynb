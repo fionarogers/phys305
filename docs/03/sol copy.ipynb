{
 "cells": [
  {
   "cell_type": "markdown",
   "id": "0",
   "metadata": {},
   "source": [
    "# Numerical Linear Algebra Lab"
   ]
  },
  {
   "cell_type": "markdown",
   "id": "1",
   "metadata": {},
   "source": [
    "## Iterative Solvers: Update Jacobi to Gauss-Seidel\n",
    "\n",
    "We learned in the lecture about the Jacobi interation method for solving $\\mathbf{x}$ in the linear equation $A \\mathbf{x} = \\mathbf{b}$.\n",
    "The algorithm states that by applying the update rule:\n",
    "\\begin{align}\n",
    "  x_i^{(k+1)} = \\frac{1}{a_{ii}} \\Big(b_i - \\sum_{j \\neq i} a_{ij} x_j^{(k)}\\Big),\n",
    "\\end{align}\n",
    "$x_i^{(k+1)}$ will converge to the solution $\\mathbf{x}$.\n",
    "\n",
    "We implemeneted and test it in python:"
   ]
  },
  {
   "cell_type": "code",
   "execution_count": 1,
   "id": "2",
   "metadata": {},
   "outputs": [],
   "source": [
    "def jacobi_iteration(A, b, max_iter=1000, tol=1e-8):\n",
    "    \"\"\"\n",
    "    Solve A x = b using Jacobi iteration.\n",
    "    A is assumed to be square with non-zero diagonal.\n",
    "    \"\"\"\n",
    "    n = A.shape[0]\n",
    "    x = np.zeros(n)\n",
    "    \n",
    "    for k in range(max_iter):\n",
    "        x_old = np.copy(x)\n",
    "        for i in range(n):\n",
    "            # Sum over off-diagonal terms\n",
    "            s = 0.0\n",
    "            for j in range(n):\n",
    "                if j != i:\n",
    "                    s += A[i,j] * x_old[j]\n",
    "            x[i] = (b[i] - s) / A[i, i]\n",
    "        \n",
    "        # Check for convergence\n",
    "        if np.linalg.norm(x - x_old, ord=np.inf) < tol:\n",
    "            print(f\"Jacobi converged in {k+1} iterations.\")\n",
    "            return x\n",
    "    \n",
    "    print(\"Jacobi did not fully converge within max_iter.\")\n",
    "    return x"
   ]
  },
  {
   "cell_type": "code",
   "execution_count": 2,
   "id": "3",
   "metadata": {},
   "outputs": [
    {
     "name": "stdout",
     "output_type": "stream",
     "text": [
      "Jacobi converged in 20 iterations.\n",
      "Jacobi solution: [2.14285714 2.57142857 2.14285714]\n",
      "Direct solve comparison: [2.14285714 2.57142857 2.14285714]\n"
     ]
    }
   ],
   "source": [
    "import numpy as np\n",
    "\n",
    "A = np.array([[4.0, -1.0, 0.0],\n",
    "              [-1.0, 4.0, -1.0],\n",
    "              [0.0, -1.0, 4.0]], dtype=float)\n",
    "b = np.array([6.0, 6.0, 6.0], dtype=float)\n",
    "\n",
    "x_jacobi = jacobi_iteration(A, b)\n",
    "\n",
    "print(\"Jacobi solution:\", x_jacobi)\n",
    "print(\"Direct solve comparison:\", np.linalg.solve(A, b))"
   ]
  },
  {
   "cell_type": "markdown",
   "id": "4",
   "metadata": {},
   "source": [
    "For the first hands-on, please update the above Jacobi algorithm and turn it into a working Gauss Seidel algorithm.\n",
    "\n",
    "Recalling from the lecture that the update step in the Gauss Seidel algorithm is:\n",
    "\\begin{align}\n",
    "     x_i^{(k+1)} = \\frac{1}{a_{ii}} \\Big( b_i - \\sum_{j < i} a_{ij} x_j^{(k+1)} - \\sum_{j > i} a_{ij} x_j^{(k)} \\Big).\n",
    "\\end{align}\n",
    "Note that $\\mathbf{x}^{(k+1)}$ is already partially updated (for $j < i$)."
   ]
  },
  {
   "cell_type": "code",
   "execution_count": 3,
   "id": "5",
   "metadata": {},
   "outputs": [],
   "source": [
    "def gauss_seidel_iteration(A, b, max_iter=1000, tol=1e-8):\n",
    "    \"\"\"\n",
    "    Solve A x = b using the Gauss-Seidel iteration.\n",
    "    A is assumed to be square with non-zero diagonal.\n",
    "    \"\"\"\n",
    "    n = A.shape[0]\n",
    "    x = np.zeros(n)\n",
    "\n",
    "    for k in range(max_iter):\n",
    "        x_old = np.copy(x)\n",
    "        for i in range(n):\n",
    "            # Sum over known terms\n",
    "            s1 = 0.0\n",
    "            for j in range(i):\n",
    "                s1 += A[i, j] * x[j]  # x[j] is updated\n",
    "            s2 = 0.0\n",
    "            for j in range(i+1, n):\n",
    "                s2 += A[i, j] * x_old[j]  # x_old[j] is from previous iteration\n",
    "            x[i] = (b[i] - s1 - s2) / A[i, i]\n",
    "\n",
    "        # Check convergence\n",
    "        if np.linalg.norm(x - x_old, ord=np.inf) < tol:\n",
    "            print(f\"Gauss-Seidel converged in {k+1} iterations.\")\n",
    "            return x\n",
    "\n",
    "    print(\"Gauss-Seidel did not fully converge within max_iter.\")\n",
    "    return x"
   ]
  },
  {
   "cell_type": "code",
   "execution_count": 4,
   "id": "6",
   "metadata": {},
   "outputs": [
    {
     "name": "stdout",
     "output_type": "stream",
     "text": [
      "Gauss-Seidel converged in 11 iterations.\n",
      "Jacobi solution: [2.14285714 2.57142857 2.14285714]\n",
      "Gauss-Seidel solution: [2.14285714 2.57142857 2.14285714]\n",
      "Direct solve comparison: [2.14285714 2.57142857 2.14285714]\n"
     ]
    }
   ],
   "source": [
    "x_gs = gauss_seidel_iteration(A, b)\n",
    "\n",
    "print(\"Jacobi solution:\", x_jacobi)\n",
    "print(\"Gauss-Seidel solution:\", x_gs)\n",
    "print(\"Direct solve comparison:\", np.linalg.solve(A, b))"
   ]
  },
  {
   "cell_type": "markdown",
   "id": "7",
   "metadata": {},
   "source": [
    "## Coupled Harmonic Oscillators\n",
    "\n",
    "Harmonic oscillators are a classic problem in physics, often forming the basis of more complex vibrational analyses.\n",
    "In this part, you will:\n",
    "1. Derive or reference the analytical solution for two coupled oscillators.\n",
    "2. Numerically solve the same system (using an eigenvalue approach).\n",
    "3. Generalize to $n$ (and even $n \\times n$) coupled oscillators, visualizing the mode shapes."
   ]
  },
  {
   "cell_type": "markdown",
   "id": "8",
   "metadata": {},
   "source": [
    "### Two Coupled Oscillators--Analytical Solution\n",
    "\n",
    "Consider two masses $m$ connected by three springs (constant $k$), arranged in a line and connected to two walls:\n",
    "```\n",
    "|--k--[m]--k--[m]--k--|\n",
    "```"
   ]
  },
  {
   "cell_type": "markdown",
   "id": "9",
   "metadata": {},
   "source": [
    "If each mass can move only horizontally, the equations of motion form a $2 \\times 2$ eigenvalue problem.\n",
    "\n",
    "Let:\n",
    "* $x_1(t)$ be the horizontal displacement of **Mass 1** from its equilibrium position.\n",
    "* $x_2(t)$ be the horizontal displacement of **Mass 2**.\n",
    "\n",
    "We assume **small oscillations**, so Hooke’s law applies linearly."
   ]
  },
  {
   "cell_type": "markdown",
   "id": "10",
   "metadata": {},
   "source": [
    "* **Mass 1** experiences:\n",
    "  1. A restoring force $-k \\,x_1$ from the left wall spring.\n",
    "  2. A coupling force from the middle spring:\n",
    "     if $x_2 > x_1$, that spring pulls Mass 1 to the right;\n",
    "     if $x_1 > x_2$, it pulls Mass 1 to the left.\n",
    "     The net contribution is $-k (x_1 - x_2)$.\n",
    "\n",
    "  Summing forces (Newton's second law) gives:\n",
    "  \\begin{align}\n",
    "  m \\, \\ddot{x}_1 = -k\\,x_1 - k\\,(x_1 - x_2).\n",
    "  \\end{align}\n",
    "\n",
    "* **Mass 2** experiences:\n",
    "  1. A restoring force $-k\\,x_2$ from the right wall spring.\n",
    "  2. The coupling force from the middle spring: $-k(x_2 - x_1)$.\n",
    "\n",
    "  Hence,\n",
    "  \\begin{align}\n",
    "  m \\, \\ddot{x}_2 = -k\\,x_2 - k\\,(x_2 - x_1).\n",
    "  \\end{align}\n",
    "\n"
   ]
  },
  {
   "cell_type": "markdown",
   "id": "11",
   "metadata": {},
   "source": [
    "Rewrite each equation:\n",
    "\\begin{align}\n",
    "\\begin{cases}\n",
    "m\\,\\ddot{x}_1 + 2k\\,x_1 -  k\\,x_2 = 0,\\\\\n",
    "m\\,\\ddot{x}_2 -  k\\,x_1 + 2k\\,x_2 = 0.\n",
    "\\end{cases}\n",
    "\\end{align}"
   ]
  },
  {
   "cell_type": "markdown",
   "id": "12",
   "metadata": {},
   "source": [
    "We can write $\\mathbf{x} = \\begin{pmatrix}x_1 \\\\ x_2\\end{pmatrix}$ and express the system as:\n",
    "\\begin{align}\n",
    "m \\,\\ddot{\\mathbf{x}} + K\\,\\mathbf{x} = \\mathbf{0},\n",
    "\\end{align}\n",
    "where\n",
    "\\begin{align}\n",
    "m \\,\\ddot{\\mathbf{x}} = m \\begin{pmatrix}\\ddot{x}_1 \\\\[6pt] \\ddot{x}_2\\end{pmatrix}, \\quad\n",
    "K = \\begin{pmatrix}\n",
    "2k & -k \\\\\n",
    "-k & 2k\n",
    "\\end{pmatrix}.\n",
    "\\end{align}\n",
    "\n",
    "Equivalently,\n",
    "\\begin{align}\n",
    "\\ddot{\\mathbf{x}} + \\frac{1}{m}\\,K \\,\\mathbf{x} = \\mathbf{0}.\n",
    "\\end{align}\n",
    "This is a **second-order linear system** describing small oscillations."
   ]
  },
  {
   "cell_type": "markdown",
   "id": "13",
   "metadata": {},
   "source": [
    "We look for solutions of the form\n",
    "\\begin{align}\n",
    "\\mathbf{x}(t) = \\mathbf{x}(0)\\, e^{\\,i\\,\\omega\\,t},\n",
    "\\end{align}\n",
    "where $\\mathbf{x}(0)$ is the initial condition and $\\omega$ is the (angular) oscillation frequency."
   ]
  },
  {
   "cell_type": "markdown",
   "id": "14",
   "metadata": {},
   "source": [
    "Plugging into $m\\,\\ddot{\\mathbf{x}} + K\\,\\mathbf{x} = 0$ gives:\n",
    "\\begin{align}\n",
    "-\\,m\\,\\omega^2 \\,\\mathbf{X} + K\\,\\mathbf{X} = \\mathbf{0}\n",
    "\\quad \\Longrightarrow \\quad\n",
    "\\left(K - m\\,\\omega^2 I\\right)\\,\\mathbf{X} = \\mathbf{0}.\n",
    "\\end{align}\n",
    "Nontrivial solutions exist only if\n",
    "\\begin{align}\n",
    "\\det(K - m\\,\\omega^2 I) = 0,\n",
    "\\end{align}\n",
    "which is the **eigenvalue problem** for $\\omega^2$."
   ]
  },
  {
   "cell_type": "markdown",
   "id": "15",
   "metadata": {},
   "source": [
    "Explicitly, $K - m\\,\\omega^2 I$ is:\n",
    "\\begin{align}\n",
    "\\begin{pmatrix}\n",
    "2k - m\\,\\omega^2 & -k \\\\\n",
    "-k & 2k - m\\,\\omega^2\n",
    "\\end{pmatrix}.\n",
    "\\end{align}"
   ]
  },
  {
   "cell_type": "markdown",
   "id": "16",
   "metadata": {},
   "source": [
    "The determinant is:\n",
    "\\begin{align}\n",
    "(2k - m\\,\\omega^2)(2k - m\\,\\omega^2) - (-k)(-k)\n",
    "= (2k - m\\,\\omega^2)^2 - k^2.\n",
    "\\end{align}\n",
    "\n",
    "Setting this to zero results \n",
    "\\begin{align}\n",
    "2k - m\\,\\omega^2 = \\pm\\,k.\n",
    "\\end{align}"
   ]
  },
  {
   "cell_type": "markdown",
   "id": "17",
   "metadata": {},
   "source": [
    "Hence, we get **two** solutions for $\\omega^2$:\n",
    "1. **$\\omega_+^2$**: taking the $+$ sign:\n",
    "   \\begin{align}\n",
    "   2k - m\\,\\omega_+^2 = k \\quad \\Longrightarrow \\quad \\omega_+^2 = \\frac{k}{m} \\quad \\Longrightarrow \\quad \\omega_1 = \\sqrt{\\frac{k}{m}}.\n",
    "   \\end{align}\n",
    "2. **$\\omega_-^2$**: taking the $-$ sign:\n",
    "   \\begin{align}\n",
    "   2k - m\\,\\omega_-^2 = -\\,k \\quad \\Longrightarrow \\quad \\omega_-^2 = \\frac{3k}{m} \\quad \\Longrightarrow \\quad \\omega_2 = \\sqrt{\\frac{3k}{m}}.\n",
    "   \\end{align}"
   ]
  },
  {
   "cell_type": "markdown",
   "id": "18",
   "metadata": {},
   "source": [
    "For each of the normal modes:\n",
    "\n",
    "* **Lower Frequency** $\\omega_+ = \\sqrt{k/m}$:\n",
    "  Plug $\\omega_+^2 = k/m$ back into $(K - m\\,\\omega_+^2 I)\\mathbf{X} = 0$.\n",
    "  For instance,\n",
    "  \\begin{align}\n",
    "    \\begin{pmatrix}\n",
    "    2k - k & -k \\\\\n",
    "    -k & 2k - k\n",
    "    \\end{pmatrix}\n",
    "    \\begin{pmatrix} x_1 \\\\ x_2 \\end{pmatrix}\n",
    "    = \\begin{pmatrix}\n",
    "    k & -k \\\\\n",
    "    -k & k\n",
    "    \\end{pmatrix}\n",
    "    \\begin{pmatrix} x_1 \\\\ x_2 \\end{pmatrix}\n",
    "    = \\mathbf{0}.\n",
    "  \\end{align}\n",
    "  This implies $x_1 = x_2$.\n",
    "  Physically, the **in-phase** mode has both masses moving together."
   ]
  },
  {
   "cell_type": "markdown",
   "id": "19",
   "metadata": {},
   "source": [
    "* **Higher Frequency** $\\omega_- = \\sqrt{3k/m}$:\n",
    "  \\begin{align}\n",
    "    \\begin{pmatrix}\n",
    "    2k - 3k & -k \\\\\n",
    "    -k & 2k - 3k\n",
    "    \\end{pmatrix}\n",
    "    \\begin{pmatrix} x_1 \\\\ x_2 \\end{pmatrix}\n",
    "    = \\begin{pmatrix}\n",
    "    -k & -k \\\\\n",
    "    -k & -k\n",
    "    \\end{pmatrix}\n",
    "    \\begin{pmatrix} x_1 \\\\ x_2 \\end{pmatrix}\n",
    "    = \\mathbf{0}.\n",
    "  \\end{align}\n",
    "  This yields $x_1 = -x_2$.\n",
    "  Physically, the **out-of-phase** mode has the two masses moving in opposite directions."
   ]
  },
  {
   "cell_type": "markdown",
   "id": "20",
   "metadata": {},
   "source": [
    "We can compute the position of these coupled oscillators according to the analytical solutions."
   ]
  },
  {
   "cell_type": "code",
   "execution_count": 5,
   "id": "21",
   "metadata": {},
   "outputs": [],
   "source": [
    "# Physical constants\n",
    "m = 1.0     # mass\n",
    "k = 1.0     # spring constant\n",
    "\n",
    "# Frequencies for two normal modes\n",
    "omegap = np.sqrt(k/m)      # in-phase\n",
    "omegam = np.sqrt(3*k/m)    # out-of-phase\n",
    "\n",
    "# Initial conditions\n",
    "x1_0 = 0\n",
    "x2_0 = 0.5\n",
    "\n",
    "# The analytical solution:\n",
    "def X_analytic(t):\n",
    "    xp_0 = (x1_0 + x2_0) / 2\n",
    "    xm_0 = (x1_0 - x2_0) / 2\n",
    "\n",
    "    xp = xp_0 * np.cos(omegap * t)\n",
    "    xm = xm_0 * np.cos(omegam * t)\n",
    "\n",
    "    return np.array([xp + xm, xp - xm])"
   ]
  },
  {
   "cell_type": "markdown",
   "id": "22",
   "metadata": {},
   "source": [
    "Plot multiple frames:"
   ]
  },
  {
   "cell_type": "code",
   "execution_count": 5,
   "id": "23",
   "metadata": {},
   "outputs": [],
   "source": [
    "from pathlib import Path\n",
    "\n",
    "from tqdm import tqdm\n",
    "\n",
    "import matplotlib.pyplot    as plt\n",
    "import matplotlib.animation as animation\n",
    "\n",
    "def mkplots(X, t_max=10, n_frames=201):\n",
    "    T = np.linspace(0, t_max, n_frames)\n",
    "\n",
    "    Path(\"plots\").mkdir(parents=True, exist_ok=True)\n",
    "    Xs = []\n",
    "    for t in T:\n",
    "        Xs.append(X(t))\n",
    "    Xs = np.array(Xs)\n",
    "\n",
    "    for i, t in tqdm(enumerate(T)):\n",
    "        plt.axhline(y=T[i], color='k', zorder=-1)\n",
    "        for j in range(Xs.shape[-1]):\n",
    "            plt.plot(j+1+Xs[:i+1,j], T[:i+1])\n",
    "            plt.scatter(j+1+Xs[i,j], T[i])\n",
    "        plt.xlim(0, Xs.shape[-1]+1)        \n",
    "        plt.xlabel(r'$x_i$')\n",
    "        plt.ylabel(r'$t$')\n",
    "        plt.savefig(f\"plots/{i:04}.png\")\n",
    "        plt.close()"
   ]
  },
  {
   "cell_type": "code",
   "execution_count": 7,
   "id": "24",
   "metadata": {},
   "outputs": [
    {
     "name": "stderr",
     "output_type": "stream",
     "text": [
      "201it [00:18, 10.97it/s]\n"
     ]
    }
   ],
   "source": [
    "! rm -rf plots/\n",
    "mkplots(X_analytic)"
   ]
  },
  {
   "cell_type": "markdown",
   "id": "25",
   "metadata": {},
   "source": [
    "Can combine them into a movie using `ffmpeg`:"
   ]
  },
  {
   "cell_type": "code",
   "execution_count": null,
   "id": "26",
   "metadata": {},
   "outputs": [],
   "source": [
    "# This installs `ffmpeg` if it is not available\n",
    "\n",
    "! if [ ! $(which ffmpeg) ]; then apt update && apt install ffmpeg; fi"
   ]
  },
  {
   "cell_type": "code",
   "execution_count": null,
   "id": "27",
   "metadata": {},
   "outputs": [],
   "source": [
    "# This convert all image files in \"plots/\" into \"movie.mpg\"\n",
    "\n",
    "! rm -rf movie-2.mpg && ffmpeg -i plots/%04d.png -qmax 2 movie-2.mpg"
   ]
  },
  {
   "cell_type": "markdown",
   "id": "28",
   "metadata": {},
   "source": [
    "### Two Coupled Oscillators--Semi-Analytical/Numerical Solution\n",
    "\n",
    "Instead of solving the coupled oscillator problem analytically, we can at least solve the eigenvalue part of the problem numerically."
   ]
  },
  {
   "cell_type": "code",
   "execution_count": 18,
   "id": "29",
   "metadata": {},
   "outputs": [],
   "source": [
    "# HANDSON: Step 1. rewrite the analytical solution in matrix form\n",
    "\n",
    "# Physical constants\n",
    "m = 1.0     # mass\n",
    "k = 1.0     # spring constant\n",
    "\n",
    "# Frequencies for two normal modes\n",
    "Omega = np.array([np.sqrt(k/m), np.sqrt(3*k/m)]) # this should become a numpy array\n",
    "\n",
    "# Initial conditions\n",
    "X0 = np.array([0, 0.5]) # this should become a numpy array\n",
    "M0 = np.array([\n",
    "    [1/2,  1/2],\n",
    "    [1/2, -1/2],\n",
    "]) @ X0 # apply an transformation to rewrite the transformation in terms of eigenvectors\n",
    "\n",
    "# The analytical solution in matrix notation:\n",
    "def X_matrix(t): # closure on `M0` and `Omega`\n",
    "    M = M0 * np.cos(Omega * t)\n",
    "    return np.array([\n",
    "        [1,  1],\n",
    "        [1, -1],\n",
    "    ]) @ M # apply an inverse transformation to rewrite the modes in terms of x1 and x2"
   ]
  },
  {
   "cell_type": "code",
   "execution_count": 21,
   "id": "30",
   "metadata": {},
   "outputs": [
    {
     "name": "stdout",
     "output_type": "stream",
     "text": [
      "[0.  0.5]\n",
      "[ 0.         -0.70710678]\n"
     ]
    }
   ],
   "source": [
    "print(X_analytic(0))\n",
    "print(X_matrix(0))"
   ]
  },
  {
   "cell_type": "code",
   "execution_count": 26,
   "id": "31",
   "metadata": {},
   "outputs": [
    {
     "name": "stdout",
     "output_type": "stream",
     "text": [
      "0.00 [0.  0.5]\n",
      "0.10 [0.00249168 0.49501041]\n",
      "0.20 [0.00986724 0.48016605]\n",
      "0.30 [0.02183155 0.4558367 ]\n",
      "0.40 [0.03790332 0.42262718]\n",
      "0.50 [0.0574308  0.38136048]\n",
      "0.60 [0.07961297 0.33305484]\n",
      "0.70 [0.10352565 0.27889545]\n",
      "0.80 [0.12815179 0.22020157]\n",
      "0.90 [0.15241491 0.15839007]\n",
      "1.00 [0.17521471 0.09493644]\n",
      "1.10 [0.19546371 0.03133435]\n",
      "1.20 [ 0.21212388 -0.030945  ]\n",
      "1.30 [ 0.22424197 -0.09049256]\n",
      "1.40 [ 0.23098265 -0.14599908]\n",
      "1.50 [ 0.23165816 -0.19628956]\n",
      "1.60 [ 0.2257538  -0.24035356]\n",
      "1.70 [ 0.21294822 -0.27737047]\n",
      "1.80 [ 0.19312807 -0.30672912]\n",
      "1.90 [ 0.16639632 -0.32804111]\n",
      "2.00 [ 0.13307409 -0.34114751]\n"
     ]
    }
   ],
   "source": [
    "# HANDSON: Step 2. Replace the manual solutions of eigenvalues Omega and the transform by calling `np.linalg.eig()`\n",
    "\n",
    "K = np.array([\n",
    "    [2*k/m, - k/m],\n",
    "    [- k/m, 2*k/m],\n",
    "])\n",
    "\n",
    "# Initial conditions\n",
    "X0 = np.array([0, 0.5]) # this should become a numpy array\n",
    "\n",
    "# The semi-analytical solution in matrix notation:\n",
    "Omega2, V = np.linalg.eig(K)\n",
    "Omega     = np.sqrt(Omega2)\n",
    "M0        = V.T @ X0\n",
    "\n",
    "def X_numeric(t): # closure on `M0` and `Omega`\n",
    "    return V @ (M0 * np.cos(Omega * t))\n",
    "\n",
    "for t in np.linspace(0, 2, num=21):\n",
    "     \n",
    "     X = X_numeric(t)  # Compute displacements at time t\n",
    "\n",
    "     print(f\"{t:.2f}\", X)  # Print values for reference"
   ]
  },
  {
   "cell_type": "code",
   "execution_count": 27,
   "id": "32",
   "metadata": {},
   "outputs": [
    {
     "name": "stdout",
     "output_type": "stream",
     "text": [
      "[0.17521471 0.09493644]\n",
      "[0.17521471 0.09493644]\n"
     ]
    }
   ],
   "source": [
    "print(X_analytic(1))\n",
    "print(X_numeric(1))"
   ]
  },
  {
   "cell_type": "code",
   "execution_count": 12,
   "id": "33",
   "metadata": {},
   "outputs": [],
   "source": [
    "# HANDSON: Step 3. Generalize the solution to work for arbitrary number of coupled oscillators\n",
    "\n",
    "K = np.array([\n",
    "    [2*k/m, - k/m,   0  ],\n",
    "    [- k/m, 2*k/m, - k/m],\n",
    "    [  0,   - k/m, 2*k/m],\n",
    "])\n",
    "\n",
    "# Initial conditions\n",
    "X0 = np.array([0,0,0.5]) #should become a numpy array\n",
    "\n",
    "# The semi-analytical solution in matrix notation:\n",
    "Omega2, V = np.linalg.eig(K)\n",
    "Omega     = np.sqrt(Omega2)\n",
    "M0        = V.T @ X0"
   ]
  },
  {
   "cell_type": "code",
   "execution_count": 13,
   "id": "34",
   "metadata": {},
   "outputs": [
    {
     "name": "stderr",
     "output_type": "stream",
     "text": [
      "201it [00:21,  9.17it/s]\n"
     ]
    },
    {
     "name": "stdout",
     "output_type": "stream",
     "text": [
      "/bin/bash: ffmpeg: command not found\n"
     ]
    }
   ],
   "source": [
    "! rm -rf plots/\n",
    "mkplots(X_numeric)\n",
    "! rm -rf movie-3.mpg && ffmpeg -i plots/%04d.png -qmax 2 movie-3.mpg"
   ]
  },
  {
   "cell_type": "code",
   "execution_count": 25,
   "id": "35",
   "metadata": {},
   "outputs": [
    {
     "name": "stdout",
     "output_type": "stream",
     "text": [
      "[[ 2. -1.  0.]\n",
      " [-1.  2. -1.]\n",
      " [ 0. -1.  2.]]\n",
      "0.00 [-5.00000000e-01  3.15249056e-17  5.00000000e-01]\n",
      "0.10 [-4.95008328e-01  3.30061654e-17  4.95008328e-01]\n",
      "0.20 [-4.80132978e-01  3.73592245e-17  4.80132978e-01]\n",
      "0.30 [-4.55670963e-01  4.43158150e-17  4.55670963e-01]\n",
      "0.40 [-4.22110707e-01  5.34416521e-17  4.22110707e-01]\n",
      "0.50 [-3.80122299e-01  6.41551615e-17  3.80122299e-01]\n",
      "0.60 [-3.30544106e-01  7.57526879e-17  3.30544106e-01]\n",
      "0.70 [-2.74366042e-01  8.74392181e-17  2.74366042e-01]\n",
      "0.80 [-2.12709797e-01  9.83634375e-17  2.12709797e-01]\n",
      "0.90 [-1.46806441e-01  1.07655767e-16  1.46806441e-01]\n",
      "1.00 [-7.79718474e-02  1.14467903e-16  7.79718474e-02]\n",
      "1.10 [-7.58041367e-03  1.18012324e-16  7.58041367e-03]\n",
      "1.20 [ 6.29623758e-02  1.17600188e-16 -6.29623758e-02]\n",
      "1.30 [ 1.32248015e-01  1.12676136e-16 -1.32248015e-01]\n",
      "1.40 [ 1.98893099e-01  1.02848563e-16 -1.98893099e-01]\n",
      "1.50 [ 2.61566947e-01  8.79141192e-17 -2.61566947e-01]\n",
      "1.60 [ 3.19018169e-01  6.78753720e-17 -3.19018169e-01]\n",
      "1.70 [ 3.70099654e-01  4.29508208e-17 -3.70099654e-01]\n",
      "1.80 [ 4.13791475e-01  1.35767167e-17 -4.13791475e-01]\n",
      "1.90 [ 4.49221250e-01 -1.95995578e-17 -4.49221250e-01]\n",
      "2.00 [ 4.75681564e-01 -5.57344871e-17 -4.75681564e-01]\n"
     ]
    }
   ],
   "source": [
    "N = 3\n",
    "K = (np.diag(np.repeat(2*k/m, N  )    ) +\n",
    "     np.diag(np.repeat(- k/m, N-1), +1) +\n",
    "     np.diag(np.repeat(- k/m, N-1), -1) )\n",
    "\n",
    "print(K)\n",
    "\n",
    "# Initial conditions\n",
    "X0 = [-0.5, 0, 0.5]\n",
    "\n",
    "# The semi-analytical solution in matrix notation:\n",
    "Omega2, V = np.linalg.eig(K)\n",
    "Omega     = np.sqrt(Omega2)\n",
    "M0        = V.T @ X0\n",
    "\n",
    "for t in np.linspace(0, 2, num=21):\n",
    "     \n",
    "     X = X_numeric(t)  # Compute displacements at time t\n",
    "\n",
    "     print(f\"{t:.2f}\", X)  # Print values for reference"
   ]
  },
  {
   "cell_type": "code",
   "execution_count": 15,
   "id": "36",
   "metadata": {},
   "outputs": [
    {
     "name": "stderr",
     "output_type": "stream",
     "text": [
      "201it [00:21,  9.33it/s]\n"
     ]
    },
    {
     "name": "stdout",
     "output_type": "stream",
     "text": [
      "/bin/bash: ffmpeg: command not found\n"
     ]
    }
   ],
   "source": [
    "! rm -rf plots/\n",
    "mkplots(X_numeric)\n",
    "! rm -rf movie-4.mpg && ffmpeg -i plots/%04d.png -qmax 2 movie-4.mpg"
   ]
  },
  {
   "cell_type": "code",
   "execution_count": null,
   "id": "37",
   "metadata": {},
   "outputs": [],
   "source": [
    "N = 16\n",
    "K = (np.diag(np.repeat(2*k/m, N  )    ) +\n",
    "     np.diag(np.repeat(- k/m, N-1), +1) +\n",
    "     np.diag(np.repeat(- k/m, N-1), -1) )\n",
    "\n",
    "print(K)\n",
    "\n",
    "# Initial conditions\n",
    "X0 = np.concatenate([np.zeros(N-1), [0.5]])\n",
    "\n",
    "# The semi-analytical solution in matrix notation:\n",
    "Omega2, V = np.linalg.eig(K)\n",
    "Omega     = np.sqrt(Omega2)\n",
    "M0        = V.T @ X0"
   ]
  },
  {
   "cell_type": "code",
   "execution_count": null,
   "id": "38",
   "metadata": {},
   "outputs": [],
   "source": [
    "! rm -rf plots/\n",
    "mkplots(X_numeric, t_max=100, n_frames=2001)\n",
    "! rm -rf movie-16.mpg && ffmpeg -i plots/%04d.png -qmax 2 movie-16.mpg"
   ]
  },
  {
   "cell_type": "code",
   "execution_count": 7,
   "id": "c18e0b79-5b2d-4437-81e0-ad030e5ab1ce",
   "metadata": {},
   "outputs": [
    {
     "data": {
      "text/plain": [
       "array([ 1.,  2.,  3.,  4.,  5.,  6.,  7.,  8.,  9., 10.])"
      ]
     },
     "execution_count": 7,
     "metadata": {},
     "output_type": "execute_result"
    }
   ],
   "source": [
    "np.linspace(1, 10, num=10)"
   ]
  },
  {
   "cell_type": "code",
   "execution_count": null,
   "id": "0edb7e49-1780-41cd-927e-161491a796ad",
   "metadata": {},
   "outputs": [],
   "source": []
  }
 ],
 "metadata": {
  "kernelspec": {
   "display_name": "Python 3",
   "language": "python",
   "name": "python3"
  },
  "language_info": {
   "codemirror_mode": {
    "name": "ipython",
    "version": 3
   },
   "file_extension": ".py",
   "mimetype": "text/x-python",
   "name": "python",
   "nbconvert_exporter": "python",
   "pygments_lexer": "ipython3",
   "version": "3.12.1"
  }
 },
 "nbformat": 4,
 "nbformat_minor": 5
}
